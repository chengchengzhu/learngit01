{
 "cells": [
  {
   "cell_type": "code",
   "execution_count": 2,
   "metadata": {},
   "outputs": [
    {
     "name": "stdout",
     "output_type": "stream",
     "text": [
      "$3\n",
      "$2\n",
      "$1\n",
      "$0\n",
      "====================\n",
      "0\n",
      "1\n",
      "2\n",
      "3\n"
     ]
    }
   ],
   "source": [
    "# 类似于栈的先进后出模式（堆-是先进先出）\n",
    "# 1.要有递推关系；\n",
    "# 2.要有临界值\n",
    "def digui(num):\n",
    "    print('$'+str(num))\n",
    "    # 临界值\n",
    "    if num>0:\n",
    "        # 这里用的是调用本身的函数\n",
    "        digui(num-1)\n",
    "    else:\n",
    "        print(\"=\"*20)\n",
    "    print(num)\n",
    "    \n",
    "digui(3)"
   ]
  },
  {
   "cell_type": "code",
   "execution_count": 12,
   "metadata": {},
   "outputs": [
    {
     "name": "stdout",
     "output_type": "stream",
     "text": [
      "移动第1次  A-->C\n",
      "移动第2次  A-->B\n",
      "移动第3次  C-->B\n",
      "移动第4次  A-->C\n",
      "移动第5次  B-->A\n",
      "移动第6次  B-->C\n",
      "移动第7次  A-->C\n"
     ]
    }
   ],
   "source": [
    "# 3个汉诺塔    7步\n",
    "i = 0\n",
    "# 定义一个函数，给四个参数，n是圆盘个数，a代表A柱，b-B柱，c-C柱\n",
    "# 函数里面的是形式参数\n",
    "def move(n,a,b,c):\n",
    "    # 把变量全局化\n",
    "    global i\n",
    "    if n==1:\n",
    "        i += 1\n",
    "        print('移动第{0}次  {1}-->{2}'.format(i,a,c))\n",
    "    else:\n",
    "        move(n-1,a,c,b) # 传的实际参数\n",
    "        move(1,a,b,c)\n",
    "        move(n-1,b,a,c)\n",
    "        \n",
    "move(3,'A','B','C')"
   ]
  },
  {
   "cell_type": "code",
   "execution_count": 19,
   "metadata": {},
   "outputs": [
    {
     "name": "stdout",
     "output_type": "stream",
     "text": [
      "259733\n"
     ]
    }
   ],
   "source": [
    "import os\n",
    "def getdirpath(dirpath):\n",
    "    total = 0\n",
    "    # 获取所有文件\n",
    "    allname = os.listdir(dirpath)\n",
    "    for name in allname:\n",
    "        # 拼接成完整路径\n",
    "        fullpath = os.path.join(dirpath,name)\n",
    "        # 判断是否为文件\n",
    "        if os.path.isfile(fullpath):\n",
    "            # 获取文件大小\n",
    "            total += os.path.getsize(fullpath)\n",
    "        # 判断是否为文件夹（目录）\n",
    "        elif os.path.isdir(fullpath):\n",
    "            total += getdirpath(fullpath)\n",
    "    # 返回大小\n",
    "    return total\n",
    "\n",
    "size = getdirpath(\"C:\\learngit01\")\n",
    "print(size)\n"
   ]
  },
  {
   "cell_type": "code",
   "execution_count": null,
   "metadata": {},
   "outputs": [],
   "source": []
  },
  {
   "cell_type": "code",
   "execution_count": null,
   "metadata": {},
   "outputs": [],
   "source": []
  },
  {
   "cell_type": "code",
   "execution_count": null,
   "metadata": {},
   "outputs": [],
   "source": []
  },
  {
   "cell_type": "code",
   "execution_count": null,
   "metadata": {},
   "outputs": [],
   "source": []
  },
  {
   "cell_type": "code",
   "execution_count": null,
   "metadata": {},
   "outputs": [],
   "source": []
  },
  {
   "cell_type": "code",
   "execution_count": null,
   "metadata": {},
   "outputs": [],
   "source": []
  },
  {
   "cell_type": "code",
   "execution_count": null,
   "metadata": {},
   "outputs": [],
   "source": []
  },
  {
   "cell_type": "code",
   "execution_count": null,
   "metadata": {},
   "outputs": [],
   "source": []
  },
  {
   "cell_type": "code",
   "execution_count": null,
   "metadata": {},
   "outputs": [],
   "source": []
  },
  {
   "cell_type": "code",
   "execution_count": null,
   "metadata": {},
   "outputs": [],
   "source": []
  }
 ],
 "metadata": {
  "kernelspec": {
   "display_name": "Python 3",
   "language": "python",
   "name": "python3"
  },
  "language_info": {
   "codemirror_mode": {
    "name": "ipython",
    "version": 3
   },
   "file_extension": ".py",
   "mimetype": "text/x-python",
   "name": "python",
   "nbconvert_exporter": "python",
   "pygments_lexer": "ipython3",
   "version": "3.6.5"
  }
 },
 "nbformat": 4,
 "nbformat_minor": 2
}
