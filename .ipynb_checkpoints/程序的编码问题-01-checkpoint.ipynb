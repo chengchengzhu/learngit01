{
 "cells": [
  {
   "cell_type": "markdown",
   "metadata": {},
   "source": [
    "# 编码问题\n",
    "- 为什么需要编码问题\n",
    "    - 本质上计算机只能识别01代码\n",
    "    - 如何用一长串01代码表示复杂的信息\n",
    "- 编码简史\n",
    "    - 二进制\n",
    "        - bit：一个0或者1的二进制数字\n",
    "        - byte：八个01代码，字节\n",
    "    - 第一阶段：ASCII\n",
    "    - 第二阶段：百花齐放， GB2312，GBK，BIG5，Latin1，JIS，\n",
    "        - Latin1：兼容欧洲大多数语言\n",
    "        - 中国：GBxxxx\n",
    "        - 台湾/韩国：BIG5\n",
    "        - 日本：JIS\n",
    "        - ANSI-MBCS（multi-bytes character set，多字节字符集）\n",
    "    - 第三阶段：Unicode（ISO）\n",
    "\n",
    "# 编码的表示方法\n",
    "- ASCII-American standard code for information interchange\n",
    "    - 所有控制字符（包括回车、删除等）编码在0-31范围以及127\n",
    "    - 所有标点符号，英文大小写放在32-126之间\n",
    "    - 预留128-255之间位置\n",
    "    - 0xxx xxxx是他的编码形式\n",
    "- Latin1\n",
    "    - 0-127的所有位置不懂，兼容ASCII，二进制位0xxx xxxx\n",
    "    - 128-255位置全部用完，二进制位1xxx xxxx\n",
    "        - 128-159之间为控制字符\n",
    "        - 160-255为文字符号\n",
    "        - 其中包括了西欧语言、希腊语、泰语、阿拉伯语、希伯来\n",
    "    - 欧元符号无法显示\n",
    "- GBxxxxx\n",
    "    - GB2312\n",
    "        - 如果一个字节中第一位为0，那么就是一个ASCII字符\n",
    "        - 如果一个字节中第一位为1，那么是汉字，认定需要2个字节才表示一个编码的文字\n",
    "        - 这个码表中包含汉字6763个和非汉字图形字符682个\n",
    "        - 还有很多空间没有用到，索性全部预留了吧\n",
    "        - 0xxxxxxx：表示为ASCII字符\n",
    "        - 1xxxxxxx 1xxxxxxx：表示为汉字\n",
    "- GBK\n",
    "    - 在GB231基础上添加汉字\n",
    "    - 兼容GB2312和ASCII\n",
    "    - 0xxxxxxx：表示ASCII\n",
    "    - 1xxxxxxx xxxxxxxx：汉字\n",
    "- GB18030\n",
    "    - 2/4位混编\n",
    "    "
   ]
  },
  {
   "cell_type": "code",
   "execution_count": null,
   "metadata": {},
   "outputs": [],
   "source": []
  },
  {
   "cell_type": "code",
   "execution_count": null,
   "metadata": {},
   "outputs": [],
   "source": []
  },
  {
   "cell_type": "code",
   "execution_count": null,
   "metadata": {},
   "outputs": [],
   "source": []
  },
  {
   "cell_type": "code",
   "execution_count": null,
   "metadata": {},
   "outputs": [],
   "source": []
  },
  {
   "cell_type": "code",
   "execution_count": null,
   "metadata": {},
   "outputs": [],
   "source": []
  },
  {
   "cell_type": "code",
   "execution_count": null,
   "metadata": {},
   "outputs": [],
   "source": []
  },
  {
   "cell_type": "code",
   "execution_count": null,
   "metadata": {},
   "outputs": [],
   "source": []
  },
  {
   "cell_type": "code",
   "execution_count": null,
   "metadata": {},
   "outputs": [],
   "source": []
  },
  {
   "cell_type": "code",
   "execution_count": null,
   "metadata": {},
   "outputs": [],
   "source": []
  },
  {
   "cell_type": "code",
   "execution_count": null,
   "metadata": {},
   "outputs": [],
   "source": []
  },
  {
   "cell_type": "code",
   "execution_count": null,
   "metadata": {},
   "outputs": [],
   "source": []
  },
  {
   "cell_type": "code",
   "execution_count": null,
   "metadata": {},
   "outputs": [],
   "source": []
  },
  {
   "cell_type": "code",
   "execution_count": null,
   "metadata": {},
   "outputs": [],
   "source": []
  }
 ],
 "metadata": {
  "kernelspec": {
   "display_name": "Python 3",
   "language": "python",
   "name": "python3"
  },
  "language_info": {
   "codemirror_mode": {
    "name": "ipython",
    "version": 3
   },
   "file_extension": ".py",
   "mimetype": "text/x-python",
   "name": "python",
   "nbconvert_exporter": "python",
   "pygments_lexer": "ipython3",
   "version": "3.6.5"
  }
 },
 "nbformat": 4,
 "nbformat_minor": 2
}
