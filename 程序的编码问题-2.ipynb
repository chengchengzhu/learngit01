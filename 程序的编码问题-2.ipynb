{
 "cells": [
  {
   "cell_type": "markdown",
   "metadata": {},
   "source": [
    "# Unicode编码\n",
    "    - 知识一个码表，具体实现没有规定\n",
    "    - 0-0x10FFFF来映射这些字符，最多可以容纳1114112个字符\n",
    "    - 中文的编码范围为4E00-9FCF，其中9FC4-9FCF之间的区间还没有使用\n",
    "    - 上述区间全部是汉字，不包含全角字符，不包含特殊文字\n",
    "    - UTF-UnicodeTransformationFormat\n",
    "    - UTF-8\n",
    "    - UTF-16，UTF-32\n",
    "        - UTF-16 是早期Unicode历史遗留问题\n",
    "        - UTF-32 浪费空间\n",
    "        \n",
    "- UCS-2\n",
    "    - UCS UniversalCharacterSet，通用字符集\n",
    "    - UCS-2与Unicode相同\n",
    "    - 采用2个字节，定长的表示每一个字符，总结可表示2^16个字符\n",
    "- UCS-4\n",
    "\n",
    "# 常用概念\n",
    "    - 编码/解码：由人类可直接读取信息转换成bytes格式，较编码，\n",
    "    - 大尾（BigEndian）和小尾（LittleEndian）\n",
    "        - “汉”->6C49/496C\n",
    "\n",
    "    - BOM\n",
    "        - UTF-8没有字节顺序问题（无大小尾问题）\n",
    "        - UTF-16会出现问题\n",
    "            - “奎”594E\n",
    "            - “乙”4E59\n",
    "        - BOM ByteOrderMark\n",
    "            - 标识文件存储方法为大小尾\n",
    "            - FEFF 大尾\n",
    "            - FFFE 小尾\n",
    "\n",
    "# python编码问题\n",
    "- str\n",
    "- bytes\n",
    "- bytearray\n",
    "- .decode('utf-8')\n",
    "- 编码解码必须一致\n",
    "- ord('A') 查看码符\n",
    "- chr(65) 对应信息\n",
    "\n",
    "- python文件默认utf-8编码，如果特殊需要，需声明\n",
    "- 放在第一行，或者第二行\n",
    "- '''#\n",
    "- 读写文件默认utf-8，可以指定\n",
    "- code point方式比较字符串，可能会带来问题\n",
    "    - 重音符号的表示\n",
    "    - 使用Unicodedata.normalize函数\n",
    "- python源码中出现了解码错误，会产生SyntaxError异常\n",
    "- 其他情况下，如果发现编码解码错误，会产生UnicodeEncodeError异常，UnicodeDecodeError异常"
   ]
  },
  {
   "cell_type": "code",
   "execution_count": null,
   "metadata": {},
   "outputs": [],
   "source": []
  },
  {
   "cell_type": "code",
   "execution_count": null,
   "metadata": {},
   "outputs": [],
   "source": []
  },
  {
   "cell_type": "code",
   "execution_count": null,
   "metadata": {},
   "outputs": [],
   "source": []
  },
  {
   "cell_type": "code",
   "execution_count": null,
   "metadata": {},
   "outputs": [],
   "source": []
  },
  {
   "cell_type": "code",
   "execution_count": null,
   "metadata": {},
   "outputs": [],
   "source": []
  }
 ],
 "metadata": {
  "kernelspec": {
   "display_name": "Python 3",
   "language": "python",
   "name": "python3"
  },
  "language_info": {
   "codemirror_mode": {
    "name": "ipython",
    "version": 3
   },
   "file_extension": ".py",
   "mimetype": "text/x-python",
   "name": "python",
   "nbconvert_exporter": "python",
   "pygments_lexer": "ipython3",
   "version": "3.6.5"
  }
 },
 "nbformat": 4,
 "nbformat_minor": 2
}
