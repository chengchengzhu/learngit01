{
 "cells": [
  {
   "cell_type": "code",
   "execution_count": 1,
   "metadata": {},
   "outputs": [
    {
     "name": "stdout",
     "output_type": "stream",
     "text": [
      "1\n"
     ]
    }
   ],
   "source": [
    "import math\n",
    "print(1)"
   ]
  },
  {
   "cell_type": "code",
   "execution_count": 2,
   "metadata": {},
   "outputs": [
    {
     "name": "stdout",
     "output_type": "stream",
     "text": [
      "6\n"
     ]
    }
   ],
   "source": [
    "# celi() 向上取整操作\n",
    "print(math.ceil(5.1))"
   ]
  },
  {
   "cell_type": "code",
   "execution_count": 3,
   "metadata": {},
   "outputs": [
    {
     "name": "stdout",
     "output_type": "stream",
     "text": [
      "5\n"
     ]
    }
   ],
   "source": [
    "# floor()向下取整操作\n",
    "print(math.floor(5.9))"
   ]
  },
  {
   "cell_type": "code",
   "execution_count": 7,
   "metadata": {},
   "outputs": [
    {
     "name": "stdout",
     "output_type": "stream",
     "text": [
      "['False', 'None', 'True', 'and', 'as', 'assert', 'break', 'class', 'continue', 'def', 'del', 'elif', 'else', 'except', 'finally', 'for', 'from', 'global', 'if', 'import', 'in', 'is', 'lambda', 'nonlocal', 'not', 'or', 'pass', 'raise', 'return', 'try', 'while', 'with', 'yield']\n"
     ]
    }
   ],
   "source": [
    "# 查看系统保留的关键字，不能用来当做变量的命名\n",
    "import keyword\n",
    "\n",
    "print(keyword.kwlist)"
   ]
  },
  {
   "cell_type": "code",
   "execution_count": 10,
   "metadata": {},
   "outputs": [
    {
     "name": "stdout",
     "output_type": "stream",
     "text": [
      "5\n",
      "6\n"
     ]
    }
   ],
   "source": [
    "# round() 四舍五入操作，非数学模块\n",
    "print(round(5.01))\n",
    "print(round(5.51))"
   ]
  },
  {
   "cell_type": "code",
   "execution_count": 14,
   "metadata": {},
   "outputs": [
    {
     "name": "stdout",
     "output_type": "stream",
     "text": [
      "2.0\n"
     ]
    }
   ],
   "source": [
    "# sqrt() 开平方，返回浮点数\n",
    "print(math.sqrt(4))\n"
   ]
  },
  {
   "cell_type": "code",
   "execution_count": 19,
   "metadata": {},
   "outputs": [
    {
     "name": "stdout",
     "output_type": "stream",
     "text": [
      "64\n",
      "64.0\n"
     ]
    }
   ],
   "source": [
    "# pow() 与幂运算差不多，计算一个数的几次方，有两个参数，第一个是底数，第二个是指数\n",
    "print(4**3) # 幂运算，返回整形\n",
    "print(math.pow(4,3)) # 4的三次方，函数返回的是浮点型"
   ]
  },
  {
   "cell_type": "code",
   "execution_count": 23,
   "metadata": {},
   "outputs": [
    {
     "name": "stdout",
     "output_type": "stream",
     "text": [
      "1.0\n",
      "3.0\n",
      "0.0\n"
     ]
    }
   ],
   "source": [
    "# fabs() 获取一个数值的绝对值，返回浮点数\n",
    "print(math.fabs(-1))\n",
    "print(math.fabs(3))\n",
    "print(math.fabs(0))"
   ]
  },
  {
   "cell_type": "code",
   "execution_count": 26,
   "metadata": {},
   "outputs": [
    {
     "name": "stdout",
     "output_type": "stream",
     "text": [
      "1\n",
      "2.5\n",
      "0\n",
      "4\n"
     ]
    }
   ],
   "source": [
    "# abs() 获取绝对值操作，不是数学模块当中的，是python内置，返回值由本身类型决定\n",
    "print(abs(-1))\n",
    "print(abs(-2.5))\n",
    "print(abs(0))\n",
    "print(abs(4))"
   ]
  },
  {
   "cell_type": "code",
   "execution_count": 31,
   "metadata": {},
   "outputs": [
    {
     "name": "stdout",
     "output_type": "stream",
     "text": [
      "17.5\n",
      "17.5\n"
     ]
    }
   ],
   "source": [
    "# fsum() 对整个序列求和，math内置，返回浮点数\n",
    "print(math.fsum([1,4.5,5,7]))\n",
    "# sum() python内置求和，返回类型由本身决定\n",
    "print(sum([1,4.5,5,7]))"
   ]
  },
  {
   "cell_type": "code",
   "execution_count": 36,
   "metadata": {},
   "outputs": [
    {
     "name": "stdout",
     "output_type": "stream",
     "text": [
      "(0.5, 4.0)\n",
      "(0.0, 0.0)\n",
      "(0.0, 3.0)\n",
      "Help on built-in function modf in module math:\n",
      "\n",
      "modf(...)\n",
      "    modf(x)\n",
      "    \n",
      "    Return the fractional and integer parts of x.  Both results carry the sign\n",
      "    of x and are floats.\n",
      "\n"
     ]
    }
   ],
   "source": [
    "# modf() 讲一个浮点数拆分为整数和小数，组成元祖（小数在前）\n",
    "print(math.modf(4.5))\n",
    "print(math.modf(0))\n",
    "print(math.modf(3))\n",
    "help(math.modf)"
   ]
  },
  {
   "cell_type": "code",
   "execution_count": 40,
   "metadata": {},
   "outputs": [
    {
     "name": "stdout",
     "output_type": "stream",
     "text": [
      "-2.0\n",
      "2.0\n"
     ]
    }
   ],
   "source": [
    "# copysign() 将第二个数的符号（正负号），传给第一个数，返回第一个数值的浮点数\n",
    "print(math.copysign(2,-3))\n",
    "print(math.copysign(-2,3))"
   ]
  },
  {
   "cell_type": "code",
   "execution_count": 44,
   "metadata": {},
   "outputs": [
    {
     "name": "stdout",
     "output_type": "stream",
     "text": [
      "2.718281828459045\n",
      "3.141592653589793\n"
     ]
    }
   ],
   "source": [
    "\n",
    "print(math.e) # 打印自然对数\n",
    "print(math.pi) # 打印π\n"
   ]
  },
  {
   "cell_type": "code",
   "execution_count": 45,
   "metadata": {},
   "outputs": [],
   "source": [
    "import random # 随机数模块 f4"
   ]
  },
  {
   "cell_type": "code",
   "execution_count": 54,
   "metadata": {},
   "outputs": [
    {
     "name": "stdout",
     "output_type": "stream",
     "text": [
      "0.014819148020266293\n",
      "7\n",
      "0.12039659581383777\n",
      "6\n",
      "0.767291547412734\n",
      "2\n",
      "0.7339688401277964\n",
      "9\n",
      "0.15516654508167171\n",
      "1\n",
      "0.10140859876842123\n",
      "9\n",
      "0.8148569583316638\n",
      "4\n",
      "0.3750910116617344\n",
      "8\n",
      "0.9878663243038733\n",
      "8\n",
      "0.6298545746421643\n",
      "2\n"
     ]
    }
   ],
   "source": [
    "# random() 获取0-1之间的随机小数，包含0不包含1\n",
    "for i in range(10):\n",
    "    print(random.random())\n",
    "    print(random.randint(1,10)) # 随机返回1-10的整数，包含1和10"
   ]
  },
  {
   "cell_type": "code",
   "execution_count": 106,
   "metadata": {},
   "outputs": [
    {
     "name": "stdout",
     "output_type": "stream",
     "text": [
      "4\n",
      "7\n",
      "1\n",
      "4\n",
      "7\n",
      "4\n",
      "7\n",
      "7\n",
      "1\n",
      "1\n"
     ]
    }
   ],
   "source": [
    "# random.randrange() 获取制定开始和结束之间的值，可以制定间隔值\n",
    "for i in range(10):\n",
    "    print(random.randrange(1,10,3))\n"
   ]
  },
  {
   "cell_type": "code",
   "execution_count": 126,
   "metadata": {},
   "outputs": [
    {
     "name": "stdout",
     "output_type": "stream",
     "text": [
      "2\n"
     ]
    }
   ],
   "source": [
    "# random.choice() 随机获取列表中的值\n",
    "print(random.choice([11,314,3,2,46]))"
   ]
  },
  {
   "cell_type": "code",
   "execution_count": 137,
   "metadata": {},
   "outputs": [
    {
     "name": "stdout",
     "output_type": "stream",
     "text": [
      "None\n",
      "[11, 314, 3, 2, 46]\n",
      "[314, 2, 11, 3, 46]\n"
     ]
    }
   ],
   "source": [
    "# shuffle() 随机打乱序列，返回值为none\n",
    "print(random.shuffle([11,314,3,2,46]))\n",
    "a = [11,314,3,2,46]\n",
    "print(a)\n",
    "random.shuffle(a)\n",
    "print(a)"
   ]
  },
  {
   "cell_type": "code",
   "execution_count": 196,
   "metadata": {},
   "outputs": [
    {
     "name": "stdout",
     "output_type": "stream",
     "text": [
      "5.250000266945653\n"
     ]
    }
   ],
   "source": [
    "# uniform() 随机获取制定范围内的值（包括小数）\n",
    "print(random.uniform(1,10))"
   ]
  },
  {
   "cell_type": "code",
   "execution_count": 232,
   "metadata": {},
   "outputs": [
    {
     "name": "stdout",
     "output_type": "stream",
     "text": [
      "请输入一个三位数字：100\n"
     ]
    }
   ],
   "source": [
    "import random\n",
    "import math\n",
    "\n",
    "#定义一个变量用于存储初始分数\n",
    "source = 0\n",
    "#定义一个变量用于累积输入了多少次\n",
    "total = 0\n",
    "while 1:\n",
    "    # input()输入函数，输入的是字符类型，需要强制转换一下\n",
    "    num = input(\"请输入一个三位数字，输入-1结束：\")\n",
    "    if num=='-1':\n",
    "        break\n",
    "    #if num.isdigit(): #判断是否为纯数字\n",
    "    #    if 100 <= int(num) <=999:\n",
    "    #        pass\n",
    "    #else:\n",
    "    #    print('请按规定输入')\n",
    "\n",
    "    '''\n",
    "    输入一个三位数，与程序随机数比较大小\n",
    "    1、如果大于程序随机数，分别输出三位数的个位，十位，百位\n",
    "    2、如果等于程序随机数，提示中奖，记100分\n",
    "    3、如果小于程序随机数，则将120个字符输入到文本文件中\n",
    "        （规则是每一条字符串的长度为12，单独占一行，并且前四个是字母，后八个是数字）\n",
    "    '''\n",
    "    # 程序随机数\n",
    "    random_num = random.randrange(100,1000)\n",
    "\n",
    "    def line():\n",
    "        #定义一个空字符串，用于拼接字符\n",
    "        str_num = ''\n",
    "        #循环前四个随机字母，用ascii码对应的值来随机再转换为字母\n",
    "        for i in range(4):\n",
    "            #随机小写字母的ascii码值\n",
    "            num = random.randrange(97,123)\n",
    "            #将ascii码值转换成对应的字母\n",
    "            str_s = chr(num) \n",
    "            #依次拼接得到的随机字母\n",
    "            str_num = str_num + str_s\n",
    "        #循环后八个随机数字\n",
    "        for i in range(8):\n",
    "            num = random.randrange(0,10)\n",
    "            str_num = str_num + str(num)\n",
    "        #print(str_num)\n",
    "        return str_num\n",
    "\n",
    "    if num.isdigit() and 100 <= int(num) <=999: #输入函数返回的是字符类型，不能与整形直接比较，需要强制型转换\n",
    "        #判断随机数与输入的数的大小\n",
    "        num = int(num)\n",
    "        random_num = int(random_num)\n",
    "        if num > random_num:\n",
    "            #求百位数字方法是地板除100，或用math.floor()函数\n",
    "            bai = num // 100\n",
    "            #求十位数字方法是先把三位数字取100的余数，再地板除10\n",
    "            shi = num % 100 // 10\n",
    "            #求个位数字方法是取10的余数\n",
    "            ge = num % 10\n",
    "            print('这个三位数的个位是{}，十位是{}，百位是{}'.format(ge,shi,bai))\n",
    "        if num == random_num:\n",
    "            source += 100\n",
    "            print('你中奖了，目前的分数为',source)\n",
    "        if num < random_num:\n",
    "            #由于120个字符每行12个，可知只需存入10行就可以\n",
    "            for i in range(10):\n",
    "                str_line = line()\n",
    "                #print(str_line)\n",
    "                #执行文件存入操作\n",
    "                with open(\"str_num.txt\",\"a\") as f: #不需要close，写完自动关闭\n",
    "                    f.write(str_line+'\\n')\n",
    "\n",
    "    else:\n",
    "        print('请按规定输入')\n",
    "    \n",
    "    \n"
   ]
  },
  {
   "cell_type": "code",
   "execution_count": null,
   "metadata": {},
   "outputs": [],
   "source": [
    "# / 除法\n",
    "# // 地板除\n",
    "# % 求余数/模"
   ]
  },
  {
   "cell_type": "code",
   "execution_count": 222,
   "metadata": {},
   "outputs": [
    {
     "name": "stdout",
     "output_type": "stream",
     "text": [
      "65\n",
      "90\n",
      "97\n",
      "122\n",
      "a\n"
     ]
    }
   ],
   "source": [
    "# ascii码转数字\n",
    "print(ord(\"A\"))\n",
    "print(ord(\"Z\"))\n",
    "print(ord(\"a\"))\n",
    "print(ord(\"z\"))\n",
    "\n",
    "# 数字转ascii码\n",
    "print(chr(97))"
   ]
  },
  {
   "cell_type": "code",
   "execution_count": null,
   "metadata": {},
   "outputs": [],
   "source": [
    "import random\n",
    "\n",
    "num = 0\n",
    "source = 0\n",
    "while 1:\n",
    "    num = input('输入1，2,3三个数字，输入-1结束')\n",
    "    #if num == '-1':\n",
    "    #    break\n",
    "    rand_num = random.randrange(1,4)\n",
    "    num = int(num)\n",
    "    rand_num = int(rand_num)\n",
    "    if num == -1:\n",
    "        break\n",
    "\n",
    "    #定义一个变量用于存储初始分数\n",
    "    if num>rand_num:\n",
    "        print('输入的数比随机数大')\n",
    "    elif num==rand_num:\n",
    "        source = source + 100\n",
    "        print('太棒了，分数为',source)\n",
    "    elif num<rand_num:\n",
    "        print('输入的数比随机数小')"
   ]
  },
  {
   "cell_type": "code",
   "execution_count": null,
   "metadata": {},
   "outputs": [],
   "source": []
  },
  {
   "cell_type": "code",
   "execution_count": null,
   "metadata": {},
   "outputs": [],
   "source": []
  }
 ],
 "metadata": {
  "kernelspec": {
   "display_name": "Python 3",
   "language": "python",
   "name": "python3"
  },
  "language_info": {
   "codemirror_mode": {
    "name": "ipython",
    "version": 3
   },
   "file_extension": ".py",
   "mimetype": "text/x-python",
   "name": "python",
   "nbconvert_exporter": "python",
   "pygments_lexer": "ipython3",
   "version": "3.6.5"
  }
 },
 "nbformat": 4,
 "nbformat_minor": 2
}
